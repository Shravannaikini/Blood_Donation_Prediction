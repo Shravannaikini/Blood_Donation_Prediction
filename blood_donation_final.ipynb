{
  "nbformat": 4,
  "nbformat_minor": 0,
  "metadata": {
    "colab": {
      "name": "blood_donation_final.ipynb",
      "provenance": [],
      "collapsed_sections": []
    },
    "kernelspec": {
      "name": "python3",
      "display_name": "Python 3"
    }
  },
  "cells": [
    {
      "cell_type": "markdown",
      "metadata": {
        "id": "xSy8W_6EaFOI",
        "colab_type": "text"
      },
      "source": [
        "**Importing Pandas and loading the Dataset**"
      ]
    },
    {
      "cell_type": "code",
      "metadata": {
        "id": "zoXlats74gR4",
        "colab_type": "code",
        "outputId": "4daf206d-3662-440c-aff1-022a92af61d3",
        "colab": {
          "base_uri": "https://localhost:8080/",
          "height": 164
        }
      },
      "source": [
        "#importing pandas library\n",
        "import pandas as pd\n",
        "\n",
        "#importing dataset and initializing it to transfusion variable\n",
        "transfusion = pd.read_csv(\"/content/blood_donation.csv\")\n",
        "\n",
        "\n",
        "print(transfusion.head())"
      ],
      "execution_count": 0,
      "outputs": [
        {
          "output_type": "stream",
          "text": [
            "   Recency (months)  ...  whether he/she donated blood in March 2007\n",
            "0                 2  ...                                           1\n",
            "1                 0  ...                                           1\n",
            "2                 1  ...                                           1\n",
            "3                 2  ...                                           1\n",
            "4                 1  ...                                           0\n",
            "\n",
            "[5 rows x 5 columns]\n"
          ],
          "name": "stdout"
        }
      ]
    },
    {
      "cell_type": "markdown",
      "metadata": {
        "id": "mGx8WuTRaNc6",
        "colab_type": "text"
      },
      "source": [
        "**Statistical summary of the data and checking dataset object types**"
      ]
    },
    {
      "cell_type": "code",
      "metadata": {
        "id": "8PqDhHAtBmsM",
        "colab_type": "code",
        "outputId": "2851f00f-bea0-4ac4-87be-bae494ab5ef2",
        "colab": {
          "base_uri": "https://localhost:8080/",
          "height": 219
        }
      },
      "source": [
        "print(transfusion.info())"
      ],
      "execution_count": 0,
      "outputs": [
        {
          "output_type": "stream",
          "text": [
            "<class 'pandas.core.frame.DataFrame'>\n",
            "RangeIndex: 748 entries, 0 to 747\n",
            "Data columns (total 5 columns):\n",
            "Recency (months)                              748 non-null int64\n",
            "Frequency (times)                             748 non-null int64\n",
            "Monetary (c.c. blood)                         748 non-null int64\n",
            "Time (months)                                 748 non-null int64\n",
            "whether he/she donated blood in March 2007    748 non-null int64\n",
            "dtypes: int64(5)\n",
            "memory usage: 29.3 KB\n",
            "None\n"
          ],
          "name": "stdout"
        }
      ]
    },
    {
      "cell_type": "markdown",
      "metadata": {
        "id": "0Jrh1dalaebK",
        "colab_type": "text"
      },
      "source": [
        "**Defining Target variable**"
      ]
    },
    {
      "cell_type": "code",
      "metadata": {
        "id": "TKXtybgiBw5g",
        "colab_type": "code",
        "outputId": "35183445-b2d9-4fcd-a1bb-8e457978928b",
        "colab": {
          "base_uri": "https://localhost:8080/",
          "height": 164
        }
      },
      "source": [
        "#since a column named \"whether he/she donated blood\" is our target variable\n",
        "\n",
        "#we simply rename it as 'target' for convinience\n",
        "\n",
        "transfusion.rename(columns={\"whether he/she donated blood in March 2007\":\"target\"}, inplace=True)\n",
        "\n",
        "#inspecting rename operation by printing some samples of 'transfusion' data\n",
        "\n",
        "print(transfusion.head())\n"
      ],
      "execution_count": 0,
      "outputs": [
        {
          "output_type": "stream",
          "text": [
            "   Recency (months)  Frequency (times)  ...  Time (months)  target\n",
            "0                 2                 50  ...             98       1\n",
            "1                 0                 13  ...             28       1\n",
            "2                 1                 16  ...             35       1\n",
            "3                 2                 20  ...             45       1\n",
            "4                 1                 24  ...             77       0\n",
            "\n",
            "[5 rows x 5 columns]\n"
          ],
          "name": "stdout"
        }
      ]
    },
    {
      "cell_type": "markdown",
      "metadata": {
        "id": "u51_nSEHaw1B",
        "colab_type": "text"
      },
      "source": [
        "**Checking target incidence and balance of the target**"
      ]
    },
    {
      "cell_type": "code",
      "metadata": {
        "id": "4GqNiCozC_bs",
        "colab_type": "code",
        "outputId": "8ffa786e-3b3e-496e-a221-c3c345f3e50c",
        "colab": {
          "base_uri": "https://localhost:8080/",
          "height": 72
        }
      },
      "source": [
        "transfusion.target.value_counts(normalize=True).round(3)\n",
        "\n",
        "#there are only two possible outcomes which are 0 and 1 means given and not given\n",
        "#we have come to know that donation count is more than denied count"
      ],
      "execution_count": 0,
      "outputs": [
        {
          "output_type": "execute_result",
          "data": {
            "text/plain": [
              "0    0.762\n",
              "1    0.238\n",
              "Name: target, dtype: float64"
            ]
          },
          "metadata": {
            "tags": []
          },
          "execution_count": 11
        }
      ]
    },
    {
      "cell_type": "markdown",
      "metadata": {
        "id": "jWcgeAk6a2ex",
        "colab_type": "text"
      },
      "source": [
        "**Splitting the data into Training set and Testing set**"
      ]
    },
    {
      "cell_type": "code",
      "metadata": {
        "id": "KTjXfJWZEPCP",
        "colab_type": "code",
        "colab": {}
      },
      "source": [
        "#importing train_test_splt from sklearn\n",
        "\n",
        "from sklearn.model_selection import train_test_split\n",
        "\n",
        "X= transfusion.drop(['target'],axis=1)\n",
        "y = transfusion['target']\n",
        "\n",
        "X_train, X_test, y_train, y_test = train_test_split(X,y, test_size=0.25, random_state = 42)"
      ],
      "execution_count": 0,
      "outputs": []
    },
    {
      "cell_type": "markdown",
      "metadata": {
        "id": "XUwDw8WEbC10",
        "colab_type": "text"
      },
      "source": [
        "**Importing Logistic regression model for classification**"
      ]
    },
    {
      "cell_type": "code",
      "metadata": {
        "id": "zCMpWdk7GXY5",
        "colab_type": "code",
        "colab": {}
      },
      "source": [
        "from sklearn.linear_model import LogisticRegression\n",
        "model = LogisticRegression()\n",
        "\n",
        "#logistic regression has been imported successfull and assigned to 'model' variable"
      ],
      "execution_count": 0,
      "outputs": []
    },
    {
      "cell_type": "markdown",
      "metadata": {
        "id": "VcRYaF5EbZbR",
        "colab_type": "text"
      },
      "source": [
        "**Fitting the Training data in the logistic regression model**"
      ]
    },
    {
      "cell_type": "code",
      "metadata": {
        "id": "52tH0BJRG27V",
        "colab_type": "code",
        "outputId": "f8224c02-3eb0-434a-a582-8d610dafe3ba",
        "colab": {
          "base_uri": "https://localhost:8080/",
          "height": 166
        }
      },
      "source": [
        "model.fit(X_train,y_train)\n",
        "\n",
        "#logistic regression model has trained successfully"
      ],
      "execution_count": 0,
      "outputs": [
        {
          "output_type": "stream",
          "text": [
            "/usr/local/lib/python3.6/dist-packages/sklearn/linear_model/logistic.py:432: FutureWarning: Default solver will be changed to 'lbfgs' in 0.22. Specify a solver to silence this warning.\n",
            "  FutureWarning)\n"
          ],
          "name": "stderr"
        },
        {
          "output_type": "execute_result",
          "data": {
            "text/plain": [
              "LogisticRegression(C=1.0, class_weight=None, dual=False, fit_intercept=True,\n",
              "                   intercept_scaling=1, l1_ratio=None, max_iter=100,\n",
              "                   multi_class='warn', n_jobs=None, penalty='l2',\n",
              "                   random_state=None, solver='warn', tol=0.0001, verbose=0,\n",
              "                   warm_start=False)"
            ]
          },
          "metadata": {
            "tags": []
          },
          "execution_count": 15
        }
      ]
    },
    {
      "cell_type": "markdown",
      "metadata": {
        "id": "ugYeEuBkbfhu",
        "colab_type": "text"
      },
      "source": [
        "**Checking Accuracy of the model with score method**"
      ]
    },
    {
      "cell_type": "code",
      "metadata": {
        "id": "F_5yJ9jqI_TG",
        "colab_type": "code",
        "outputId": "47075e56-a98c-4b88-d21c-ac64cf45f0fa",
        "colab": {
          "base_uri": "https://localhost:8080/",
          "height": 35
        }
      },
      "source": [
        "y_pred = model.predict(X_test)\n",
        "\n",
        "accuracy = model.score(X_test,y_test)\n",
        "\n",
        "print(accuracy)"
      ],
      "execution_count": 0,
      "outputs": [
        {
          "output_type": "stream",
          "text": [
            "0.7540106951871658\n"
          ],
          "name": "stdout"
        }
      ]
    },
    {
      "cell_type": "markdown",
      "metadata": {
        "id": "x6xIzOG8bu32",
        "colab_type": "text"
      },
      "source": [
        "**Plotting confusion matrix**"
      ]
    },
    {
      "cell_type": "code",
      "metadata": {
        "id": "O71iRkIGK10A",
        "colab_type": "code",
        "outputId": "0346fd23-19ac-493c-9cd5-6c2c4f998b16",
        "colab": {
          "base_uri": "https://localhost:8080/",
          "height": 54
        }
      },
      "source": [
        "from sklearn.metrics import confusion_matrix\n",
        "\n",
        "conf_mat = confusion_matrix(y_test,y_pred)\n",
        "\n",
        "print(conf_mat)"
      ],
      "execution_count": 0,
      "outputs": [
        {
          "output_type": "stream",
          "text": [
            "[[136   3]\n",
            " [ 43   5]]\n"
          ],
          "name": "stdout"
        }
      ]
    },
    {
      "cell_type": "markdown",
      "metadata": {
        "id": "1Tq36oPPb0qw",
        "colab_type": "text"
      },
      "source": [
        "**Making a sample prediction**"
      ]
    },
    {
      "cell_type": "code",
      "metadata": {
        "id": "tQGEPqOsLN37",
        "colab_type": "code",
        "outputId": "56a00dc1-e848-4568-9a74-a0e595c7e4d9",
        "colab": {
          "base_uri": "https://localhost:8080/",
          "height": 35
        }
      },
      "source": [
        "model.predict([[18,22,6980,64]])"
      ],
      "execution_count": 0,
      "outputs": [
        {
          "output_type": "execute_result",
          "data": {
            "text/plain": [
              "array([0])"
            ]
          },
          "metadata": {
            "tags": []
          },
          "execution_count": 27
        }
      ]
    }
  ]
}